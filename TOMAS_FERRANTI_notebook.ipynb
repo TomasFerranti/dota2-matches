{
 "cells": [
  {
   "cell_type": "markdown",
   "metadata": {
    "id": "ttSlz2Fiaoup"
   },
   "source": [
    "# Loading packages"
   ]
  },
  {
   "cell_type": "code",
   "execution_count": 1,
   "metadata": {
    "id": "wGDiBrUdO9wT"
   },
   "outputs": [],
   "source": [
    "import numpy as np\n",
    "import pandas as pd\n",
    "import matplotlib.pyplot as plt\n",
    "import seaborn as sns\n",
    "import warnings\n",
    "warnings.filterwarnings(\"ignore\")\n",
    "import itertools\n",
    "\n",
    "from sklearn.model_selection import train_test_split\n",
    "from sklearn.model_selection import cross_val_score\n",
    "from sklearn.metrics import r2_score\n",
    "from sklearn.linear_model import LinearRegression\n",
    "from sklearn.linear_model import RidgeCV\n",
    "from sklearn.metrics import confusion_matrix, ConfusionMatrixDisplay\n",
    "from sklearn.metrics import accuracy_score\n",
    "from sklearn.linear_model import LogisticRegression\n",
    "from sklearn.tree import DecisionTreeClassifier\n",
    "from sklearn.tree import DecisionTreeRegressor\n",
    "from sklearn.ensemble import BaggingClassifier\n",
    "from sklearn.ensemble import RandomForestClassifier\n",
    "from sklearn.ensemble import RandomForestRegressor\n",
    "from sklearn.ensemble import GradientBoostingRegressor\n",
    "from sklearn.ensemble import GradientBoostingClassifier"
   ]
  },
  {
   "cell_type": "markdown",
   "metadata": {
    "id": "8wTvwFBUO9wV"
   },
   "source": [
    "# Loading Data"
   ]
  },
  {
   "cell_type": "code",
   "execution_count": 9,
   "metadata": {
    "colab": {
     "base_uri": "https://localhost:8080/",
     "height": 223
    },
    "id": "vKSGma4RO9wW",
    "outputId": "ed0e3163-19af-47f2-c5a2-f579dc12c6ed",
    "scrolled": true
   },
   "outputs": [
    {
     "data": {
      "text/html": [
       "<div>\n",
       "<style scoped>\n",
       "    .dataframe tbody tr th:only-of-type {\n",
       "        vertical-align: middle;\n",
       "    }\n",
       "\n",
       "    .dataframe tbody tr th {\n",
       "        vertical-align: top;\n",
       "    }\n",
       "\n",
       "    .dataframe thead th {\n",
       "        text-align: right;\n",
       "    }\n",
       "</style>\n",
       "<table border=\"1\" class=\"dataframe\">\n",
       "  <thead>\n",
       "    <tr style=\"text-align: right;\">\n",
       "      <th></th>\n",
       "      <th>match_id</th>\n",
       "      <th>account_id</th>\n",
       "      <th>hero_id</th>\n",
       "      <th>player_slot</th>\n",
       "      <th>gold</th>\n",
       "      <th>gold_spent</th>\n",
       "      <th>gold_per_min</th>\n",
       "      <th>xp_per_min</th>\n",
       "      <th>kills</th>\n",
       "      <th>deaths</th>\n",
       "      <th>assists</th>\n",
       "      <th>denies</th>\n",
       "      <th>last_hits</th>\n",
       "      <th>stuns</th>\n",
       "      <th>hero_damage</th>\n",
       "      <th>hero_healing</th>\n",
       "      <th>tower_damage</th>\n",
       "      <th>item_0</th>\n",
       "      <th>item_1</th>\n",
       "      <th>item_2</th>\n",
       "      <th>item_3</th>\n",
       "      <th>item_4</th>\n",
       "      <th>item_5</th>\n",
       "      <th>level</th>\n",
       "      <th>leaver_status</th>\n",
       "      <th>xp_hero</th>\n",
       "      <th>xp_creep</th>\n",
       "      <th>xp_roshan</th>\n",
       "      <th>xp_other</th>\n",
       "      <th>gold_other</th>\n",
       "      <th>gold_death</th>\n",
       "      <th>gold_buyback</th>\n",
       "      <th>gold_abandon</th>\n",
       "      <th>gold_sell</th>\n",
       "      <th>gold_destroying_structure</th>\n",
       "      <th>gold_killing_heros</th>\n",
       "      <th>gold_killing_creeps</th>\n",
       "      <th>gold_killing_roshan</th>\n",
       "      <th>gold_killing_couriers</th>\n",
       "      <th>unit_order_none</th>\n",
       "      <th>unit_order_move_to_position</th>\n",
       "      <th>unit_order_move_to_target</th>\n",
       "      <th>unit_order_attack_move</th>\n",
       "      <th>unit_order_attack_target</th>\n",
       "      <th>unit_order_cast_position</th>\n",
       "      <th>unit_order_cast_target</th>\n",
       "      <th>unit_order_cast_target_tree</th>\n",
       "      <th>unit_order_cast_no_target</th>\n",
       "      <th>unit_order_cast_toggle</th>\n",
       "      <th>unit_order_hold_position</th>\n",
       "      <th>unit_order_train_ability</th>\n",
       "      <th>unit_order_drop_item</th>\n",
       "      <th>unit_order_give_item</th>\n",
       "      <th>unit_order_pickup_item</th>\n",
       "      <th>unit_order_pickup_rune</th>\n",
       "      <th>unit_order_purchase_item</th>\n",
       "      <th>unit_order_sell_item</th>\n",
       "      <th>unit_order_disassemble_item</th>\n",
       "      <th>unit_order_move_item</th>\n",
       "      <th>unit_order_cast_toggle_auto</th>\n",
       "      <th>unit_order_stop</th>\n",
       "      <th>unit_order_taunt</th>\n",
       "      <th>unit_order_buyback</th>\n",
       "      <th>unit_order_glyph</th>\n",
       "      <th>unit_order_eject_item_from_stash</th>\n",
       "      <th>unit_order_cast_rune</th>\n",
       "      <th>unit_order_ping_ability</th>\n",
       "      <th>unit_order_move_to_direction</th>\n",
       "      <th>unit_order_patrol</th>\n",
       "      <th>unit_order_vector_target_position</th>\n",
       "      <th>unit_order_radar</th>\n",
       "      <th>unit_order_set_item_combine_lock</th>\n",
       "      <th>unit_order_continue</th>\n",
       "    </tr>\n",
       "  </thead>\n",
       "  <tbody>\n",
       "    <tr>\n",
       "      <th>0</th>\n",
       "      <td>0</td>\n",
       "      <td>0</td>\n",
       "      <td>86</td>\n",
       "      <td>0</td>\n",
       "      <td>3261</td>\n",
       "      <td>10960</td>\n",
       "      <td>347</td>\n",
       "      <td>362</td>\n",
       "      <td>9</td>\n",
       "      <td>3</td>\n",
       "      <td>18</td>\n",
       "      <td>1</td>\n",
       "      <td>30</td>\n",
       "      <td>76.7356</td>\n",
       "      <td>8690</td>\n",
       "      <td>218</td>\n",
       "      <td>143</td>\n",
       "      <td>180</td>\n",
       "      <td>37</td>\n",
       "      <td>73</td>\n",
       "      <td>56</td>\n",
       "      <td>108</td>\n",
       "      <td>0</td>\n",
       "      <td>16</td>\n",
       "      <td>0</td>\n",
       "      <td>8840.0</td>\n",
       "      <td>5440.0</td>\n",
       "      <td>NaN</td>\n",
       "      <td>83.0</td>\n",
       "      <td>50.0</td>\n",
       "      <td>-957.0</td>\n",
       "      <td>NaN</td>\n",
       "      <td>NaN</td>\n",
       "      <td>212.0</td>\n",
       "      <td>3120.0</td>\n",
       "      <td>5145.0</td>\n",
       "      <td>1087.0</td>\n",
       "      <td>400.0</td>\n",
       "      <td>NaN</td>\n",
       "      <td>NaN</td>\n",
       "      <td>4070.0</td>\n",
       "      <td>1.0</td>\n",
       "      <td>25.0</td>\n",
       "      <td>416.0</td>\n",
       "      <td>51.0</td>\n",
       "      <td>144.0</td>\n",
       "      <td>3.0</td>\n",
       "      <td>71.0</td>\n",
       "      <td>NaN</td>\n",
       "      <td>188.0</td>\n",
       "      <td>16.0</td>\n",
       "      <td>NaN</td>\n",
       "      <td>NaN</td>\n",
       "      <td>NaN</td>\n",
       "      <td>2.0</td>\n",
       "      <td>35.0</td>\n",
       "      <td>2.0</td>\n",
       "      <td>NaN</td>\n",
       "      <td>11.0</td>\n",
       "      <td>NaN</td>\n",
       "      <td>NaN</td>\n",
       "      <td>NaN</td>\n",
       "      <td>NaN</td>\n",
       "      <td>NaN</td>\n",
       "      <td>NaN</td>\n",
       "      <td>NaN</td>\n",
       "      <td>6.0</td>\n",
       "      <td>NaN</td>\n",
       "      <td>NaN</td>\n",
       "      <td>NaN</td>\n",
       "      <td>NaN</td>\n",
       "      <td>NaN</td>\n",
       "      <td>NaN</td>\n",
       "    </tr>\n",
       "    <tr>\n",
       "      <th>1</th>\n",
       "      <td>0</td>\n",
       "      <td>1</td>\n",
       "      <td>51</td>\n",
       "      <td>1</td>\n",
       "      <td>2954</td>\n",
       "      <td>17760</td>\n",
       "      <td>494</td>\n",
       "      <td>659</td>\n",
       "      <td>13</td>\n",
       "      <td>3</td>\n",
       "      <td>18</td>\n",
       "      <td>9</td>\n",
       "      <td>109</td>\n",
       "      <td>87.4164</td>\n",
       "      <td>23747</td>\n",
       "      <td>0</td>\n",
       "      <td>423</td>\n",
       "      <td>46</td>\n",
       "      <td>63</td>\n",
       "      <td>119</td>\n",
       "      <td>102</td>\n",
       "      <td>24</td>\n",
       "      <td>108</td>\n",
       "      <td>22</td>\n",
       "      <td>0</td>\n",
       "      <td>14331.0</td>\n",
       "      <td>8440.0</td>\n",
       "      <td>2683.0</td>\n",
       "      <td>671.0</td>\n",
       "      <td>395.0</td>\n",
       "      <td>-1137.0</td>\n",
       "      <td>NaN</td>\n",
       "      <td>NaN</td>\n",
       "      <td>1650.0</td>\n",
       "      <td>3299.0</td>\n",
       "      <td>6676.0</td>\n",
       "      <td>4317.0</td>\n",
       "      <td>937.0</td>\n",
       "      <td>NaN</td>\n",
       "      <td>NaN</td>\n",
       "      <td>5894.0</td>\n",
       "      <td>214.0</td>\n",
       "      <td>165.0</td>\n",
       "      <td>1031.0</td>\n",
       "      <td>98.0</td>\n",
       "      <td>39.0</td>\n",
       "      <td>4.0</td>\n",
       "      <td>439.0</td>\n",
       "      <td>NaN</td>\n",
       "      <td>346.0</td>\n",
       "      <td>22.0</td>\n",
       "      <td>NaN</td>\n",
       "      <td>NaN</td>\n",
       "      <td>12.0</td>\n",
       "      <td>52.0</td>\n",
       "      <td>30.0</td>\n",
       "      <td>4.0</td>\n",
       "      <td>NaN</td>\n",
       "      <td>21.0</td>\n",
       "      <td>NaN</td>\n",
       "      <td>NaN</td>\n",
       "      <td>NaN</td>\n",
       "      <td>NaN</td>\n",
       "      <td>NaN</td>\n",
       "      <td>NaN</td>\n",
       "      <td>NaN</td>\n",
       "      <td>14.0</td>\n",
       "      <td>NaN</td>\n",
       "      <td>NaN</td>\n",
       "      <td>NaN</td>\n",
       "      <td>NaN</td>\n",
       "      <td>NaN</td>\n",
       "      <td>NaN</td>\n",
       "    </tr>\n",
       "    <tr>\n",
       "      <th>2</th>\n",
       "      <td>0</td>\n",
       "      <td>0</td>\n",
       "      <td>83</td>\n",
       "      <td>2</td>\n",
       "      <td>110</td>\n",
       "      <td>12195</td>\n",
       "      <td>350</td>\n",
       "      <td>385</td>\n",
       "      <td>0</td>\n",
       "      <td>4</td>\n",
       "      <td>15</td>\n",
       "      <td>1</td>\n",
       "      <td>58</td>\n",
       "      <td>None</td>\n",
       "      <td>4217</td>\n",
       "      <td>1595</td>\n",
       "      <td>399</td>\n",
       "      <td>48</td>\n",
       "      <td>60</td>\n",
       "      <td>59</td>\n",
       "      <td>108</td>\n",
       "      <td>65</td>\n",
       "      <td>0</td>\n",
       "      <td>17</td>\n",
       "      <td>0</td>\n",
       "      <td>6692.0</td>\n",
       "      <td>8112.0</td>\n",
       "      <td>NaN</td>\n",
       "      <td>453.0</td>\n",
       "      <td>259.0</td>\n",
       "      <td>-1436.0</td>\n",
       "      <td>-1015.0</td>\n",
       "      <td>NaN</td>\n",
       "      <td>NaN</td>\n",
       "      <td>3142.0</td>\n",
       "      <td>2418.0</td>\n",
       "      <td>3697.0</td>\n",
       "      <td>400.0</td>\n",
       "      <td>NaN</td>\n",
       "      <td>NaN</td>\n",
       "      <td>7053.0</td>\n",
       "      <td>3.0</td>\n",
       "      <td>132.0</td>\n",
       "      <td>645.0</td>\n",
       "      <td>36.0</td>\n",
       "      <td>160.0</td>\n",
       "      <td>20.0</td>\n",
       "      <td>373.0</td>\n",
       "      <td>NaN</td>\n",
       "      <td>643.0</td>\n",
       "      <td>17.0</td>\n",
       "      <td>5.0</td>\n",
       "      <td>NaN</td>\n",
       "      <td>7.0</td>\n",
       "      <td>8.0</td>\n",
       "      <td>28.0</td>\n",
       "      <td>NaN</td>\n",
       "      <td>1.0</td>\n",
       "      <td>18.0</td>\n",
       "      <td>NaN</td>\n",
       "      <td>NaN</td>\n",
       "      <td>NaN</td>\n",
       "      <td>1.0</td>\n",
       "      <td>NaN</td>\n",
       "      <td>NaN</td>\n",
       "      <td>NaN</td>\n",
       "      <td>17.0</td>\n",
       "      <td>NaN</td>\n",
       "      <td>NaN</td>\n",
       "      <td>NaN</td>\n",
       "      <td>NaN</td>\n",
       "      <td>NaN</td>\n",
       "      <td>NaN</td>\n",
       "    </tr>\n",
       "    <tr>\n",
       "      <th>3</th>\n",
       "      <td>0</td>\n",
       "      <td>2</td>\n",
       "      <td>11</td>\n",
       "      <td>3</td>\n",
       "      <td>1179</td>\n",
       "      <td>22505</td>\n",
       "      <td>599</td>\n",
       "      <td>605</td>\n",
       "      <td>8</td>\n",
       "      <td>4</td>\n",
       "      <td>19</td>\n",
       "      <td>6</td>\n",
       "      <td>271</td>\n",
       "      <td>None</td>\n",
       "      <td>14832</td>\n",
       "      <td>2714</td>\n",
       "      <td>6055</td>\n",
       "      <td>63</td>\n",
       "      <td>147</td>\n",
       "      <td>154</td>\n",
       "      <td>164</td>\n",
       "      <td>79</td>\n",
       "      <td>160</td>\n",
       "      <td>21</td>\n",
       "      <td>0</td>\n",
       "      <td>8583.0</td>\n",
       "      <td>14230.0</td>\n",
       "      <td>894.0</td>\n",
       "      <td>293.0</td>\n",
       "      <td>100.0</td>\n",
       "      <td>-2156.0</td>\n",
       "      <td>NaN</td>\n",
       "      <td>NaN</td>\n",
       "      <td>938.0</td>\n",
       "      <td>4714.0</td>\n",
       "      <td>4104.0</td>\n",
       "      <td>10432.0</td>\n",
       "      <td>400.0</td>\n",
       "      <td>NaN</td>\n",
       "      <td>NaN</td>\n",
       "      <td>4712.0</td>\n",
       "      <td>133.0</td>\n",
       "      <td>163.0</td>\n",
       "      <td>690.0</td>\n",
       "      <td>9.0</td>\n",
       "      <td>15.0</td>\n",
       "      <td>7.0</td>\n",
       "      <td>406.0</td>\n",
       "      <td>NaN</td>\n",
       "      <td>150.0</td>\n",
       "      <td>21.0</td>\n",
       "      <td>NaN</td>\n",
       "      <td>NaN</td>\n",
       "      <td>1.0</td>\n",
       "      <td>9.0</td>\n",
       "      <td>45.0</td>\n",
       "      <td>7.0</td>\n",
       "      <td>NaN</td>\n",
       "      <td>14.0</td>\n",
       "      <td>NaN</td>\n",
       "      <td>NaN</td>\n",
       "      <td>NaN</td>\n",
       "      <td>NaN</td>\n",
       "      <td>1.0</td>\n",
       "      <td>NaN</td>\n",
       "      <td>NaN</td>\n",
       "      <td>13.0</td>\n",
       "      <td>NaN</td>\n",
       "      <td>NaN</td>\n",
       "      <td>NaN</td>\n",
       "      <td>NaN</td>\n",
       "      <td>NaN</td>\n",
       "      <td>NaN</td>\n",
       "    </tr>\n",
       "    <tr>\n",
       "      <th>4</th>\n",
       "      <td>0</td>\n",
       "      <td>3</td>\n",
       "      <td>67</td>\n",
       "      <td>4</td>\n",
       "      <td>3307</td>\n",
       "      <td>23825</td>\n",
       "      <td>613</td>\n",
       "      <td>762</td>\n",
       "      <td>20</td>\n",
       "      <td>3</td>\n",
       "      <td>17</td>\n",
       "      <td>13</td>\n",
       "      <td>245</td>\n",
       "      <td>None</td>\n",
       "      <td>33740</td>\n",
       "      <td>243</td>\n",
       "      <td>1833</td>\n",
       "      <td>114</td>\n",
       "      <td>92</td>\n",
       "      <td>147</td>\n",
       "      <td>0</td>\n",
       "      <td>137</td>\n",
       "      <td>63</td>\n",
       "      <td>24</td>\n",
       "      <td>0</td>\n",
       "      <td>15814.0</td>\n",
       "      <td>14325.0</td>\n",
       "      <td>NaN</td>\n",
       "      <td>62.0</td>\n",
       "      <td>NaN</td>\n",
       "      <td>-1437.0</td>\n",
       "      <td>-1056.0</td>\n",
       "      <td>NaN</td>\n",
       "      <td>4194.0</td>\n",
       "      <td>3217.0</td>\n",
       "      <td>7467.0</td>\n",
       "      <td>9220.0</td>\n",
       "      <td>400.0</td>\n",
       "      <td>NaN</td>\n",
       "      <td>NaN</td>\n",
       "      <td>3853.0</td>\n",
       "      <td>7.0</td>\n",
       "      <td>7.0</td>\n",
       "      <td>1173.0</td>\n",
       "      <td>31.0</td>\n",
       "      <td>84.0</td>\n",
       "      <td>8.0</td>\n",
       "      <td>198.0</td>\n",
       "      <td>NaN</td>\n",
       "      <td>111.0</td>\n",
       "      <td>23.0</td>\n",
       "      <td>1.0</td>\n",
       "      <td>NaN</td>\n",
       "      <td>NaN</td>\n",
       "      <td>2.0</td>\n",
       "      <td>44.0</td>\n",
       "      <td>6.0</td>\n",
       "      <td>NaN</td>\n",
       "      <td>13.0</td>\n",
       "      <td>NaN</td>\n",
       "      <td>NaN</td>\n",
       "      <td>NaN</td>\n",
       "      <td>1.0</td>\n",
       "      <td>3.0</td>\n",
       "      <td>NaN</td>\n",
       "      <td>NaN</td>\n",
       "      <td>23.0</td>\n",
       "      <td>NaN</td>\n",
       "      <td>NaN</td>\n",
       "      <td>NaN</td>\n",
       "      <td>NaN</td>\n",
       "      <td>NaN</td>\n",
       "      <td>NaN</td>\n",
       "    </tr>\n",
       "  </tbody>\n",
       "</table>\n",
       "</div>"
      ],
      "text/plain": [
       "   match_id  account_id  ...  unit_order_set_item_combine_lock  unit_order_continue\n",
       "0         0           0  ...                               NaN                  NaN\n",
       "1         0           1  ...                               NaN                  NaN\n",
       "2         0           0  ...                               NaN                  NaN\n",
       "3         0           2  ...                               NaN                  NaN\n",
       "4         0           3  ...                               NaN                  NaN\n",
       "\n",
       "[5 rows x 73 columns]"
      ]
     },
     "execution_count": 9,
     "metadata": {
      "tags": []
     },
     "output_type": "execute_result"
    }
   ],
   "source": [
    "matches = pd.read_csv('players.csv')\n",
    "matches.head()"
   ]
  },
  {
   "cell_type": "code",
   "execution_count": 10,
   "metadata": {
    "colab": {
     "base_uri": "https://localhost:8080/",
     "height": 388
    },
    "id": "xmX92pv3O9wX",
    "outputId": "717aebce-1e79-42f3-b894-30e16db13e44"
   },
   "outputs": [
    {
     "data": {
      "text/html": [
       "<div>\n",
       "<style scoped>\n",
       "    .dataframe tbody tr th:only-of-type {\n",
       "        vertical-align: middle;\n",
       "    }\n",
       "\n",
       "    .dataframe tbody tr th {\n",
       "        vertical-align: top;\n",
       "    }\n",
       "\n",
       "    .dataframe thead th {\n",
       "        text-align: right;\n",
       "    }\n",
       "</style>\n",
       "<table border=\"1\" class=\"dataframe\">\n",
       "  <thead>\n",
       "    <tr style=\"text-align: right;\">\n",
       "      <th></th>\n",
       "      <th>match_id</th>\n",
       "      <th>hero_id</th>\n",
       "      <th>player_slot</th>\n",
       "    </tr>\n",
       "  </thead>\n",
       "  <tbody>\n",
       "    <tr>\n",
       "      <th>0</th>\n",
       "      <td>0</td>\n",
       "      <td>86</td>\n",
       "      <td>0</td>\n",
       "    </tr>\n",
       "    <tr>\n",
       "      <th>1</th>\n",
       "      <td>0</td>\n",
       "      <td>51</td>\n",
       "      <td>1</td>\n",
       "    </tr>\n",
       "    <tr>\n",
       "      <th>2</th>\n",
       "      <td>0</td>\n",
       "      <td>83</td>\n",
       "      <td>2</td>\n",
       "    </tr>\n",
       "    <tr>\n",
       "      <th>3</th>\n",
       "      <td>0</td>\n",
       "      <td>11</td>\n",
       "      <td>3</td>\n",
       "    </tr>\n",
       "    <tr>\n",
       "      <th>4</th>\n",
       "      <td>0</td>\n",
       "      <td>67</td>\n",
       "      <td>4</td>\n",
       "    </tr>\n",
       "    <tr>\n",
       "      <th>5</th>\n",
       "      <td>0</td>\n",
       "      <td>106</td>\n",
       "      <td>128</td>\n",
       "    </tr>\n",
       "    <tr>\n",
       "      <th>6</th>\n",
       "      <td>0</td>\n",
       "      <td>102</td>\n",
       "      <td>129</td>\n",
       "    </tr>\n",
       "    <tr>\n",
       "      <th>7</th>\n",
       "      <td>0</td>\n",
       "      <td>46</td>\n",
       "      <td>130</td>\n",
       "    </tr>\n",
       "    <tr>\n",
       "      <th>8</th>\n",
       "      <td>0</td>\n",
       "      <td>7</td>\n",
       "      <td>131</td>\n",
       "    </tr>\n",
       "    <tr>\n",
       "      <th>9</th>\n",
       "      <td>0</td>\n",
       "      <td>73</td>\n",
       "      <td>132</td>\n",
       "    </tr>\n",
       "    <tr>\n",
       "      <th>10</th>\n",
       "      <td>1</td>\n",
       "      <td>7</td>\n",
       "      <td>0</td>\n",
       "    </tr>\n",
       "  </tbody>\n",
       "</table>\n",
       "</div>"
      ],
      "text/plain": [
       "    match_id  hero_id  player_slot\n",
       "0          0       86            0\n",
       "1          0       51            1\n",
       "2          0       83            2\n",
       "3          0       11            3\n",
       "4          0       67            4\n",
       "5          0      106          128\n",
       "6          0      102          129\n",
       "7          0       46          130\n",
       "8          0        7          131\n",
       "9          0       73          132\n",
       "10         1        7            0"
      ]
     },
     "execution_count": 10,
     "metadata": {
      "tags": []
     },
     "output_type": "execute_result"
    }
   ],
   "source": [
    "matches = matches[['match_id','hero_id','player_slot']]\n",
    "matches.head(11)"
   ]
  },
  {
   "cell_type": "code",
   "execution_count": 11,
   "metadata": {
    "colab": {
     "base_uri": "https://localhost:8080/",
     "height": 223
    },
    "id": "YDLecskeO9wX",
    "outputId": "d3a02ce4-94b0-49a1-88ad-ca1656e46a32"
   },
   "outputs": [
    {
     "data": {
      "text/html": [
       "<div>\n",
       "<style scoped>\n",
       "    .dataframe tbody tr th:only-of-type {\n",
       "        vertical-align: middle;\n",
       "    }\n",
       "\n",
       "    .dataframe tbody tr th {\n",
       "        vertical-align: top;\n",
       "    }\n",
       "\n",
       "    .dataframe thead th {\n",
       "        text-align: right;\n",
       "    }\n",
       "</style>\n",
       "<table border=\"1\" class=\"dataframe\">\n",
       "  <thead>\n",
       "    <tr style=\"text-align: right;\">\n",
       "      <th></th>\n",
       "      <th>match_id</th>\n",
       "      <th>start_time</th>\n",
       "      <th>duration</th>\n",
       "      <th>tower_status_radiant</th>\n",
       "      <th>tower_status_dire</th>\n",
       "      <th>barracks_status_dire</th>\n",
       "      <th>barracks_status_radiant</th>\n",
       "      <th>first_blood_time</th>\n",
       "      <th>game_mode</th>\n",
       "      <th>radiant_win</th>\n",
       "      <th>negative_votes</th>\n",
       "      <th>positive_votes</th>\n",
       "      <th>cluster</th>\n",
       "    </tr>\n",
       "  </thead>\n",
       "  <tbody>\n",
       "    <tr>\n",
       "      <th>0</th>\n",
       "      <td>0</td>\n",
       "      <td>1446750112</td>\n",
       "      <td>2375</td>\n",
       "      <td>1982</td>\n",
       "      <td>4</td>\n",
       "      <td>3</td>\n",
       "      <td>63</td>\n",
       "      <td>1</td>\n",
       "      <td>22</td>\n",
       "      <td>True</td>\n",
       "      <td>0</td>\n",
       "      <td>1</td>\n",
       "      <td>155</td>\n",
       "    </tr>\n",
       "    <tr>\n",
       "      <th>1</th>\n",
       "      <td>1</td>\n",
       "      <td>1446753078</td>\n",
       "      <td>2582</td>\n",
       "      <td>0</td>\n",
       "      <td>1846</td>\n",
       "      <td>63</td>\n",
       "      <td>0</td>\n",
       "      <td>221</td>\n",
       "      <td>22</td>\n",
       "      <td>False</td>\n",
       "      <td>0</td>\n",
       "      <td>2</td>\n",
       "      <td>154</td>\n",
       "    </tr>\n",
       "    <tr>\n",
       "      <th>2</th>\n",
       "      <td>2</td>\n",
       "      <td>1446764586</td>\n",
       "      <td>2716</td>\n",
       "      <td>256</td>\n",
       "      <td>1972</td>\n",
       "      <td>63</td>\n",
       "      <td>48</td>\n",
       "      <td>190</td>\n",
       "      <td>22</td>\n",
       "      <td>False</td>\n",
       "      <td>0</td>\n",
       "      <td>0</td>\n",
       "      <td>132</td>\n",
       "    </tr>\n",
       "    <tr>\n",
       "      <th>3</th>\n",
       "      <td>3</td>\n",
       "      <td>1446765723</td>\n",
       "      <td>3085</td>\n",
       "      <td>4</td>\n",
       "      <td>1924</td>\n",
       "      <td>51</td>\n",
       "      <td>3</td>\n",
       "      <td>40</td>\n",
       "      <td>22</td>\n",
       "      <td>False</td>\n",
       "      <td>0</td>\n",
       "      <td>0</td>\n",
       "      <td>191</td>\n",
       "    </tr>\n",
       "    <tr>\n",
       "      <th>4</th>\n",
       "      <td>4</td>\n",
       "      <td>1446796385</td>\n",
       "      <td>1887</td>\n",
       "      <td>2047</td>\n",
       "      <td>0</td>\n",
       "      <td>0</td>\n",
       "      <td>63</td>\n",
       "      <td>58</td>\n",
       "      <td>22</td>\n",
       "      <td>True</td>\n",
       "      <td>0</td>\n",
       "      <td>0</td>\n",
       "      <td>156</td>\n",
       "    </tr>\n",
       "  </tbody>\n",
       "</table>\n",
       "</div>"
      ],
      "text/plain": [
       "   match_id  start_time  duration  ...  negative_votes  positive_votes  cluster\n",
       "0         0  1446750112      2375  ...               0               1      155\n",
       "1         1  1446753078      2582  ...               0               2      154\n",
       "2         2  1446764586      2716  ...               0               0      132\n",
       "3         3  1446765723      3085  ...               0               0      191\n",
       "4         4  1446796385      1887  ...               0               0      156\n",
       "\n",
       "[5 rows x 13 columns]"
      ]
     },
     "execution_count": 11,
     "metadata": {
      "tags": []
     },
     "output_type": "execute_result"
    }
   ],
   "source": [
    "matches_result = pd.read_csv('match.csv')\n",
    "matches_result.head()"
   ]
  },
  {
   "cell_type": "code",
   "execution_count": 12,
   "metadata": {
    "colab": {
     "base_uri": "https://localhost:8080/",
     "height": 203
    },
    "id": "nlYzrqCAO9wX",
    "outputId": "dccd4b72-6c59-4a7c-98a5-87843646eb12"
   },
   "outputs": [
    {
     "data": {
      "text/html": [
       "<div>\n",
       "<style scoped>\n",
       "    .dataframe tbody tr th:only-of-type {\n",
       "        vertical-align: middle;\n",
       "    }\n",
       "\n",
       "    .dataframe tbody tr th {\n",
       "        vertical-align: top;\n",
       "    }\n",
       "\n",
       "    .dataframe thead th {\n",
       "        text-align: right;\n",
       "    }\n",
       "</style>\n",
       "<table border=\"1\" class=\"dataframe\">\n",
       "  <thead>\n",
       "    <tr style=\"text-align: right;\">\n",
       "      <th></th>\n",
       "      <th>match_id</th>\n",
       "      <th>duration</th>\n",
       "      <th>radiant_win</th>\n",
       "    </tr>\n",
       "  </thead>\n",
       "  <tbody>\n",
       "    <tr>\n",
       "      <th>0</th>\n",
       "      <td>0</td>\n",
       "      <td>2375</td>\n",
       "      <td>True</td>\n",
       "    </tr>\n",
       "    <tr>\n",
       "      <th>1</th>\n",
       "      <td>1</td>\n",
       "      <td>2582</td>\n",
       "      <td>False</td>\n",
       "    </tr>\n",
       "    <tr>\n",
       "      <th>2</th>\n",
       "      <td>2</td>\n",
       "      <td>2716</td>\n",
       "      <td>False</td>\n",
       "    </tr>\n",
       "    <tr>\n",
       "      <th>3</th>\n",
       "      <td>3</td>\n",
       "      <td>3085</td>\n",
       "      <td>False</td>\n",
       "    </tr>\n",
       "    <tr>\n",
       "      <th>4</th>\n",
       "      <td>4</td>\n",
       "      <td>1887</td>\n",
       "      <td>True</td>\n",
       "    </tr>\n",
       "  </tbody>\n",
       "</table>\n",
       "</div>"
      ],
      "text/plain": [
       "   match_id  duration  radiant_win\n",
       "0         0      2375         True\n",
       "1         1      2582        False\n",
       "2         2      2716        False\n",
       "3         3      3085        False\n",
       "4         4      1887         True"
      ]
     },
     "execution_count": 12,
     "metadata": {
      "tags": []
     },
     "output_type": "execute_result"
    }
   ],
   "source": [
    "matches_result = matches_result[['match_id','duration','radiant_win']]\n",
    "matches_result.head()"
   ]
  },
  {
   "cell_type": "code",
   "execution_count": 13,
   "metadata": {
    "colab": {
     "base_uri": "https://localhost:8080/",
     "height": 203
    },
    "id": "-GF4NmJbO9wY",
    "outputId": "6b0a2b16-2a69-4f39-b780-577d6e45f231"
   },
   "outputs": [
    {
     "data": {
      "text/html": [
       "<div>\n",
       "<style scoped>\n",
       "    .dataframe tbody tr th:only-of-type {\n",
       "        vertical-align: middle;\n",
       "    }\n",
       "\n",
       "    .dataframe tbody tr th {\n",
       "        vertical-align: top;\n",
       "    }\n",
       "\n",
       "    .dataframe thead th {\n",
       "        text-align: right;\n",
       "    }\n",
       "</style>\n",
       "<table border=\"1\" class=\"dataframe\">\n",
       "  <thead>\n",
       "    <tr style=\"text-align: right;\">\n",
       "      <th></th>\n",
       "      <th>name</th>\n",
       "      <th>hero_id</th>\n",
       "      <th>localized_name</th>\n",
       "    </tr>\n",
       "  </thead>\n",
       "  <tbody>\n",
       "    <tr>\n",
       "      <th>0</th>\n",
       "      <td>npc_dota_hero_antimage</td>\n",
       "      <td>1</td>\n",
       "      <td>Anti-Mage</td>\n",
       "    </tr>\n",
       "    <tr>\n",
       "      <th>1</th>\n",
       "      <td>npc_dota_hero_axe</td>\n",
       "      <td>2</td>\n",
       "      <td>Axe</td>\n",
       "    </tr>\n",
       "    <tr>\n",
       "      <th>2</th>\n",
       "      <td>npc_dota_hero_bane</td>\n",
       "      <td>3</td>\n",
       "      <td>Bane</td>\n",
       "    </tr>\n",
       "    <tr>\n",
       "      <th>3</th>\n",
       "      <td>npc_dota_hero_bloodseeker</td>\n",
       "      <td>4</td>\n",
       "      <td>Bloodseeker</td>\n",
       "    </tr>\n",
       "    <tr>\n",
       "      <th>4</th>\n",
       "      <td>npc_dota_hero_crystal_maiden</td>\n",
       "      <td>5</td>\n",
       "      <td>Crystal Maiden</td>\n",
       "    </tr>\n",
       "  </tbody>\n",
       "</table>\n",
       "</div>"
      ],
      "text/plain": [
       "                           name  hero_id  localized_name\n",
       "0        npc_dota_hero_antimage        1       Anti-Mage\n",
       "1             npc_dota_hero_axe        2             Axe\n",
       "2            npc_dota_hero_bane        3            Bane\n",
       "3     npc_dota_hero_bloodseeker        4     Bloodseeker\n",
       "4  npc_dota_hero_crystal_maiden        5  Crystal Maiden"
      ]
     },
     "execution_count": 13,
     "metadata": {
      "tags": []
     },
     "output_type": "execute_result"
    }
   ],
   "source": [
    "heroes = pd.read_csv('hero_names.csv')\n",
    "heroes.head()"
   ]
  },
  {
   "cell_type": "markdown",
   "metadata": {
    "id": "ANoSI-xSO9wY"
   },
   "source": [
    "# Processing Data\n",
    "\n",
    "matches = ['match_id' 'hero_id' 'player_slot']\n",
    "\n",
    "matches_result = ['match_id','duration','radiant_win']\n",
    "\n",
    "heroes = ['name','hero_id','localized_name']"
   ]
  },
  {
   "cell_type": "code",
   "execution_count": 14,
   "metadata": {
    "colab": {
     "base_uri": "https://localhost:8080/"
    },
    "id": "5D57Lcf_O9wZ",
    "outputId": "724c4c9c-bfaf-4927-fffd-7f313cdd5698"
   },
   "outputs": [
    {
     "data": {
      "text/plain": [
       "(50000,)"
      ]
     },
     "execution_count": 14,
     "metadata": {
      "tags": []
     },
     "output_type": "execute_result"
    }
   ],
   "source": [
    "u_m_ids = np.unique(matches_result['match_id'])\n",
    "u_m_ids.shape"
   ]
  },
  {
   "cell_type": "code",
   "execution_count": 15,
   "metadata": {
    "colab": {
     "base_uri": "https://localhost:8080/"
    },
    "id": "RaQ-urHaO9wa",
    "outputId": "5620fb08-cbfe-4da2-ab6e-188fc259c3d6"
   },
   "outputs": [
    {
     "data": {
      "text/plain": [
       "(112,)"
      ]
     },
     "execution_count": 15,
     "metadata": {
      "tags": []
     },
     "output_type": "execute_result"
    }
   ],
   "source": [
    "u_h_ids = np.unique(heroes['hero_id'])\n",
    "u_h_ids.shape"
   ]
  },
  {
   "cell_type": "code",
   "execution_count": 16,
   "metadata": {
    "id": "nko0hJ8cO9wa"
   },
   "outputs": [],
   "source": [
    "X = np.zeros(shape=(2*u_m_ids.shape[0],u_h_ids.shape[0]))\n",
    "row_count = 0\n",
    "heroid_indid = {}\n",
    "ind = -1\n",
    "for index, row in matches.iterrows():\n",
    "    row = row.values\n",
    "    m_id, h_id, pslot = row\n",
    "    m_id = 2*m_id\n",
    "    if pslot > 4:\n",
    "        m_id += 1\n",
    "    if h_id in u_h_ids:\n",
    "        if h_id not in heroid_indid:\n",
    "            ind += 1\n",
    "            heroid_indid[h_id] = ind\n",
    "        X[m_id,heroid_indid[h_id]] = 1"
   ]
  },
  {
   "cell_type": "code",
   "execution_count": 17,
   "metadata": {
    "colab": {
     "base_uri": "https://localhost:8080/"
    },
    "id": "6QdolIZhO9wa",
    "outputId": "b28e064c-165b-45c8-b92c-ed01fe543e44"
   },
   "outputs": [
    {
     "data": {
      "text/plain": [
       "(100000, 1)"
      ]
     },
     "execution_count": 17,
     "metadata": {
      "tags": []
     },
     "output_type": "execute_result"
    }
   ],
   "source": [
    "old_y = matches_result[['duration']].values\n",
    "y_dur = np.repeat(old_y,2,axis=0)\n",
    "y_dur.shape"
   ]
  },
  {
   "cell_type": "code",
   "execution_count": 18,
   "metadata": {
    "colab": {
     "base_uri": "https://localhost:8080/"
    },
    "id": "PddTtkj3O9wb",
    "outputId": "2f204ce5-ef95-48db-fad0-44744f772eeb"
   },
   "outputs": [
    {
     "data": {
      "text/plain": [
       "(100000, 1)"
      ]
     },
     "execution_count": 18,
     "metadata": {
      "tags": []
     },
     "output_type": "execute_result"
    }
   ],
   "source": [
    "old_y = matches_result[['radiant_win']].values\n",
    "y_win = 1*np.concatenate([old_y, np.invert(old_y)],axis=1).reshape(-1,1)\n",
    "y_win.shape"
   ]
  },
  {
   "cell_type": "code",
   "execution_count": 19,
   "metadata": {
    "id": "4F5FG5CDO9wb"
   },
   "outputs": [],
   "source": [
    "# remove empty columns\n",
    "ind = np.arange(X.shape[1])[(np.sum(X,axis=0)==0).ravel()]\n",
    "X = np.delete(X, ind, 1)"
   ]
  },
  {
   "cell_type": "code",
   "execution_count": 20,
   "metadata": {
    "colab": {
     "base_uri": "https://localhost:8080/"
    },
    "id": "poYGKDfRO9wb",
    "outputId": "d0ff186f-b526-4724-eab3-d6f806dc067f"
   },
   "outputs": [
    {
     "data": {
      "text/plain": [
       "(99964, 110)"
      ]
     },
     "execution_count": 20,
     "metadata": {
      "tags": []
     },
     "output_type": "execute_result"
    }
   ],
   "source": [
    "# row sum different of five\n",
    "ind = np.arange(X.shape[0])[(np.sum(X,axis=1)!=5).ravel()]\n",
    "X = np.delete(X, ind, 0)\n",
    "y_dur = np.delete(y_dur, ind, 0)\n",
    "y_win = np.delete(y_win, ind, 0)\n",
    "X.shape"
   ]
  },
  {
   "cell_type": "code",
   "execution_count": 21,
   "metadata": {
    "id": "mE8Q2eANO9wb"
   },
   "outputs": [],
   "source": [
    "indid_heroid = {heroid_indid[i]:i for i in heroid_indid}\n",
    "heroid_name = {heroes.iloc[i,1]:heroes.iloc[i,2] for i in range(heroes.values.shape[0])}"
   ]
  },
  {
   "cell_type": "code",
   "execution_count": 22,
   "metadata": {
    "id": "XQwI41EqO9wc"
   },
   "outputs": [],
   "source": [
    "indid_heroname = {i:heroid_name[indid_heroid[i]] for i in indid_heroid}"
   ]
  },
  {
   "cell_type": "markdown",
   "metadata": {
    "id": "BQZrjvbuO9wc"
   },
   "source": [
    "# Exploratory Data Analysis"
   ]
  },
  {
   "cell_type": "code",
   "execution_count": 23,
   "metadata": {
    "colab": {
     "base_uri": "https://localhost:8080/",
     "height": 399
    },
    "id": "9eD5n8KJO9wc",
    "outputId": "641a050c-250e-461e-e193-870b21c4ee5e"
   },
   "outputs": [
    {
     "data": {
      "image/png": "[encoded data removed]",
      "text/plain": [
       "<Figure size 360x360 with 1 Axes>"
      ]
     },
     "metadata": {
      "needs_background": "light",
      "tags": []
     },
     "output_type": "display_data"
    }
   ],
   "source": [
    "ax = sns.displot(data=y_dur/60, kind=\"kde\", legend=False)\n",
    "ax.set(xlabel='Duration (minutes)', ylabel = 'Density',\n",
    "       title = 'Distribution of matches duration',\n",
    "       xlim = (0,100))\n",
    "plt.savefig('gdrive/MyDrive/dadosML/images/eda1.png',bbox_inches='tight')"
   ]
  },
  {
   "cell_type": "code",
   "execution_count": 25,
   "metadata": {
    "colab": {
     "base_uri": "https://localhost:8080/",
     "height": 441
    },
    "id": "8u0TxCuxO9wc",
    "outputId": "fdd264ee-0dc3-4f75-8c40-5a8847b53a46"
   },
   "outputs": [
    {
     "data": {
      "image/png": "[encoded data removed]",
      "text/plain": [
       "<Figure size 720x432 with 2 Axes>"
      ]
     },
     "metadata": {
      "needs_background": "light",
      "tags": []
     },
     "output_type": "display_data"
    }
   ],
   "source": [
    "df_stats = {'mean':[], 'std':[]}\n",
    "for i in range(X.shape[1]):\n",
    "    y_i = y_dur[X[:,i]==1]\n",
    "    df_stats['mean'].append(np.mean(y_i))\n",
    "    df_stats['std'].append(np.std(y_i))\n",
    "df_stats = pd.DataFrame(df_stats)\n",
    "\n",
    "df_stats = df_stats.sort_values(by=['mean'], ascending=False)\n",
    "topmean = df_stats.index[0:3].values\n",
    "df_stats = df_stats.sort_values(by=['std'], ascending=False)\n",
    "topstd = df_stats.index[0:3].values\n",
    "\n",
    "fig, ax = plt.subplots(nrows=1,ncols=2, figsize=(10,6))\n",
    "for i in range(3):\n",
    "    ax[0].boxplot(y_dur[X[:,topmean[i]]==1], positions=[i], sym='', widths=0.5)\n",
    "    ax[1].boxplot(y_dur[X[:,topstd[i]]==1], positions=[i], sym='', widths=0.5)\n",
    "ax[0].set_xticklabels([indid_heroname[i] for i in topmean])\n",
    "ax[1].set_xticklabels([indid_heroname[i] for i in topstd])\n",
    "ax[0].set_title('Boxplot of TOP 3 match duration mean')\n",
    "ax[1].set_title('Boxplot of TOP 3 match duration standard deviation')\n",
    "plt.tight_layout()\n",
    "plt.savefig('gdrive/MyDrive/dadosML/images/eda2.png',bbox_inches='tight')"
   ]
  },
  {
   "cell_type": "code",
   "execution_count": 26,
   "metadata": {
    "colab": {
     "base_uri": "https://localhost:8080/",
     "height": 441
    },
    "id": "tKEejBTOO9wd",
    "outputId": "81ee591a-e0c7-4745-aaaa-e9f459808cdb",
    "scrolled": false
   },
   "outputs": [
    {
     "data": {
      "image/png": "[encoded data removed]",
      "text/plain": [
       "<Figure size 720x432 with 1 Axes>"
      ]
     },
     "metadata": {
      "needs_background": "light",
      "tags": []
     },
     "output_type": "display_data"
    }
   ],
   "source": [
    "heropicks = np.sum(X, axis=0)/X.shape[0]*100\n",
    "pickrates_heroes = pd.DataFrame({'pickrate':heropicks,\n",
    "                                'hero_name':[indid_heroname[i] for i in range(heropicks.shape[0])]})\n",
    "\n",
    "pickrates_heroes = pickrates_heroes.sort_values(by=['pickrate'], ascending=False)\n",
    "top = pickrates_heroes[0:5]\n",
    "pickrates_heroes = pickrates_heroes.sort_values(by=['pickrate'], ascending=True)\n",
    "bot = pickrates_heroes[0:5]\n",
    "\n",
    "def stringify(x):\n",
    "    return str(round(x,2)) + '%'\n",
    "\n",
    "top['pickrate'] = top['pickrate'].apply(stringify)\n",
    "bot['pickrate'] = bot['pickrate'].apply(stringify)\n",
    "top = top.reset_index(drop=True)\n",
    "bot = bot.reset_index(drop=True)\n",
    "pickrate = pd.concat([top,bot],axis=1)\n",
    "pickrate.columns = ['Pick rate (TOP 5) (%)','Hero Name','Pick rate (BOTTOM 5) (%)','Hero Name']\n",
    "\n",
    "fig, ax = plt.subplots(figsize=(10,6))\n",
    "fig.patch.set_visible(False)\n",
    "ax.axis('off')\n",
    "ax.axis('tight')\n",
    "ax.table(cellText=pickrate.values, colLabels=pickrate.columns, loc='center')\n",
    "fig.tight_layout()\n",
    "plt.savefig('gdrive/MyDrive/dadosML/images/eda3.png',bbox_inches='tight')\n",
    "plt.show()"
   ]
  },
  {
   "cell_type": "code",
   "execution_count": 27,
   "metadata": {
    "colab": {
     "base_uri": "https://localhost:8080/",
     "height": 441
    },
    "id": "I2Q0GfWUO9wd",
    "outputId": "e04b5ee5-25f8-4a80-af82-d80f76df95d2"
   },
   "outputs": [
    {
     "data": {
      "image/png": "[encoded data removed]",
      "text/plain": [
       "<Figure size 720x432 with 1 Axes>"
      ]
     },
     "metadata": {
      "needs_background": "light",
      "tags": []
     },
     "output_type": "display_data"
    }
   ],
   "source": [
    "winrate = {i:np.mean(y_win[X[:,i]==1]) for i in range(X.shape[1])}\n",
    "winrates_heroes = pd.DataFrame({'winrate':[100*winrate[i] for i in range(X.shape[1])],\n",
    "                                'hero_name':[indid_heroname[i] for i in range(X.shape[1])]})\n",
    "\n",
    "winrates_heroes = winrates_heroes.sort_values(by=['winrate'], ascending=False)\n",
    "top = winrates_heroes[0:5]\n",
    "winrates_heroes = winrates_heroes.sort_values(by=['winrate'], ascending=True)\n",
    "bot = winrates_heroes[0:5]\n",
    "\n",
    "top['winrate'] = top['winrate'].apply(stringify)\n",
    "bot['winrate'] = bot['winrate'].apply(stringify)\n",
    "top = top.reset_index(drop=True)\n",
    "bot = bot.reset_index(drop=True)\n",
    "\n",
    "winrate = pd.concat([top,bot],axis=1)\n",
    "winrate.columns = ['Win rate (TOP 5) (%)','Hero Name','Win rate (BOTTOM 5) (%)','Hero Name']\n",
    "\n",
    "fig, ax = plt.subplots(figsize=(10,6))\n",
    "fig.patch.set_visible(False)\n",
    "ax.axis('off')\n",
    "ax.axis('tight')\n",
    "ax.table(cellText=winrate.values, colLabels=winrate.columns, loc='center')\n",
    "fig.tight_layout()\n",
    "plt.savefig('gdrive/MyDrive/dadosML/images/eda4.png',bbox_inches='tight')\n",
    "plt.show()"
   ]
  },
  {
   "cell_type": "markdown",
   "metadata": {
    "id": "yCWpTDNlO9we"
   },
   "source": [
    "# Models"
   ]
  },
  {
   "cell_type": "code",
   "execution_count": 28,
   "metadata": {
    "id": "Ckb_3ycnO9we"
   },
   "outputs": [],
   "source": [
    "X_train, X_test, y_train_dur, y_test_dur = train_test_split(X, y_dur, test_size=0.3, random_state=0)\n",
    "_, _, y_train_win, y_test_win = train_test_split(X, y_win, test_size=0.3, random_state=0)"
   ]
  },
  {
   "cell_type": "code",
   "execution_count": 29,
   "metadata": {
    "colab": {
     "base_uri": "https://localhost:8080/"
    },
    "id": "56S55wSfO9we",
    "outputId": "71168655-0fb8-49bc-a540-08472d4de3a7"
   },
   "outputs": [
    {
     "name": "stdout",
     "output_type": "stream",
     "text": [
      "(69974, 110)\n",
      "(29990, 110)\n"
     ]
    }
   ],
   "source": [
    "print(X_train.shape)\n",
    "print(X_test.shape)"
   ]
  },
  {
   "cell_type": "markdown",
   "metadata": {
    "id": "6nPbomuIO9wf"
   },
   "source": [
    "## Match Duration"
   ]
  },
  {
   "cell_type": "code",
   "execution_count": 30,
   "metadata": {
    "id": "Rm6IQ7TuO9wf"
   },
   "outputs": [],
   "source": [
    "def plotResiduals(y_test, y_pred, title):\n",
    "    res = (y_test-y_pred)/60\n",
    "    ax = sns.displot(data=res, kind=\"kde\", legend=False)\n",
    "    ax.set(xlabel='Duration (minutes)', ylabel = 'Density',\n",
    "           title = 'Residuals '+title,\n",
    "           xlim = (np.quantile(res,0.01),np.quantile(res,0.99)))"
   ]
  },
  {
   "cell_type": "code",
   "execution_count": 35,
   "metadata": {
    "colab": {
     "base_uri": "https://localhost:8080/",
     "height": 433
    },
    "id": "ZNx7kw2-O9wf",
    "outputId": "8f9db28e-6591-4849-f804-cab096094bfb"
   },
   "outputs": [
    {
     "name": "stdout",
     "output_type": "stream",
     "text": [
      "Train R2: 0.032236699676652214\n",
      "Test R2: 0.031450528217418006\n"
     ]
    },
    {
     "data": {
      "image/png": "[encoded data removed]",
      "text/plain": [
       "<Figure size 360x360 with 1 Axes>"
      ]
     },
     "metadata": {
      "needs_background": "light",
      "tags": []
     },
     "output_type": "display_data"
    }
   ],
   "source": [
    "# Linear Regression\n",
    "lm_dur = LinearRegression().fit(X_train, y_train_dur)\n",
    "y_pred_lm_dur = lm_dur.predict(X_test)\n",
    "print('Train R2:',r2_score(y_train_dur, lm_dur.predict(X_train)))\n",
    "print('Test R2:',r2_score(y_test_dur, y_pred_lm_dur))\n",
    "plotResiduals(y_test_dur, y_pred_lm_dur, 'Linear Model')"
   ]
  },
  {
   "cell_type": "code",
   "execution_count": 43,
   "metadata": {
    "colab": {
     "base_uri": "https://localhost:8080/",
     "height": 433
    },
    "id": "3R07QuY1O9wf",
    "outputId": "0369d492-6aa3-487b-ba83-465a0fc5a9c5"
   },
   "outputs": [
    {
     "name": "stdout",
     "output_type": "stream",
     "text": [
      "Train R2: 0.032237088972990824\n",
      "Test R2: 0.03144774994009125\n"
     ]
    },
    {
     "data": {
      "image/png": "[encoded data removed]",
      "text/plain": [
       "<Figure size 360x360 with 1 Axes>"
      ]
     },
     "metadata": {
      "needs_background": "light",
      "tags": []
     },
     "output_type": "display_data"
    }
   ],
   "source": [
    "# Ridge Regression \n",
    "rr_dur = RidgeCV(alphas=[1e-3, 1e-2, 1e-1, 1]).fit(X_train, y_train_dur)\n",
    "y_pred_rr_dur = rr_dur.predict(X_test)\n",
    "print('Train R2:',r2_score(y_train_dur, rr_dur.predict(X_train)))\n",
    "print('Test R2:',r2_score(y_test_dur, y_pred_rr_dur))\n",
    "plotResiduals(y_test_dur, y_pred_rr_dur, 'Ridge Regression')"
   ]
  },
  {
   "cell_type": "code",
   "execution_count": 44,
   "metadata": {
    "colab": {
     "base_uri": "https://localhost:8080/",
     "height": 450
    },
    "id": "POocmznvO9wg",
    "outputId": "deaa04d6-7115-40f4-ac41-33d5119c1674"
   },
   "outputs": [
    {
     "name": "stdout",
     "output_type": "stream",
     "text": [
      "Chosen depth, minimum samples split, minimum samples leaf: [20, 50, 80]\n",
      "Train CV mean R2: 0.011462118670884092\n",
      "Test R2: 0.008528669010268497\n"
     ]
    },
    {
     "data": {
      "image/png": "[encoded data removed]",
      "text/plain": [
       "<Figure size 360x360 with 1 Axes>"
      ]
     },
     "metadata": {
      "needs_background": "light",
      "tags": []
     },
     "output_type": "display_data"
    }
   ],
   "source": [
    "# Decision Tree Regression \n",
    "max_depth = [1, 5, 10, 20, 50, 100]\n",
    "min_samples_split = [50, 100, 200, 400]\n",
    "min_samples_leaf = [10, 20, 40, 80]\n",
    "max_score = 0\n",
    "for md_i, mss_i, msl_i in itertools.product(max_depth, min_samples_split, min_samples_leaf):\n",
    "  dt_dur_i = DecisionTreeRegressor(max_depth=md_i, min_samples_split=mss_i, min_samples_leaf=msl_i)\n",
    "  scores_i = cross_val_score(dt_dur_i, X_train, y_train_dur, cv=5)\n",
    "  if np.mean(scores_i) > max_score:\n",
    "    dt_dur = dt_dur_i\n",
    "    max_score = np.mean(scores_i)\n",
    "    pars = [md_i, mss_i, msl_i]\n",
    "print('Chosen depth, minimum samples split, minimum samples leaf:', pars)\n",
    "dt_dur = dt_dur.fit(X_train, y_train_dur)\n",
    "y_pred_dt_dur = dt_dur.predict(X_test).reshape(-1,1)\n",
    "print('Train CV mean R2:', max_score)\n",
    "print('Test R2:',r2_score(y_test_dur, y_pred_dt_dur))\n",
    "plotResiduals(y_test_dur, y_pred_dt_dur, 'Decision Tree')"
   ]
  },
  {
   "cell_type": "code",
   "execution_count": 46,
   "metadata": {
    "colab": {
     "base_uri": "https://localhost:8080/",
     "height": 450
    },
    "id": "9e5ityAKEFue",
    "outputId": "64e29ba1-496c-4494-de0a-42ff6e2ea427"
   },
   "outputs": [
    {
     "name": "stdout",
     "output_type": "stream",
     "text": [
      "Chosen number of estimators, depth, minimum samples split: [50, 100, 400]\n",
      "Train CV mean R2: 0.020575912972264\n",
      "Test R2: 0.021342447583959978\n"
     ]
    },
    {
     "data": {
      "image/png": "[encoded data removed]",
      "text/plain": [
       "<Figure size 360x360 with 1 Axes>"
      ]
     },
     "metadata": {
      "needs_background": "light",
      "tags": []
     },
     "output_type": "display_data"
    }
   ],
   "source": [
    "# Random Forest Regression \n",
    "n_estimators = [1, 10, 50]\n",
    "max_depth = [1, 5, 10, 20, 50, 100]\n",
    "min_samples_split = [50, 100, 200, 400]\n",
    "max_score = 0\n",
    "for n_i, md_i, mss_i in itertools.product(n_estimators, max_depth, min_samples_split):\n",
    "  rf_dur_i = RandomForestRegressor(n_estimators=n_i, max_depth=md_i, min_samples_split=mss_i, min_samples_leaf=40, random_state=0)\n",
    "  scores_i = cross_val_score(rf_dur_i, X_train, y_train_dur, cv=5)\n",
    "  if np.mean(scores_i) > max_score:\n",
    "    rf_dur = rf_dur_i\n",
    "    max_score = np.mean(scores_i)\n",
    "    pars = [n_i, md_i, mss_i]\n",
    "print('Chosen number of estimators, depth, minimum samples split:', pars)\n",
    "rf_dur = rf_dur.fit(X_train, y_train_dur)\n",
    "y_pred_rf_dur = rf_dur.predict(X_test).reshape(-1,1)\n",
    "print('Train CV mean R2:', max_score)\n",
    "print('Test R2:',r2_score(y_test_dur, y_pred_rf_dur))\n",
    "plotResiduals(y_test_dur, y_pred_rf_dur, 'Random Forest')"
   ]
  },
  {
   "cell_type": "markdown",
   "metadata": {
    "id": "WqRwq5EGO9wg"
   },
   "source": [
    "## Win"
   ]
  },
  {
   "cell_type": "code",
   "execution_count": 47,
   "metadata": {
    "id": "F6DEtpgMO9wg"
   },
   "outputs": [],
   "source": [
    "def plotConfusion(y_test, y_pred, title):\n",
    "    cm = confusion_matrix(y_test, y_pred, normalize='all')\n",
    "    cmd = ConfusionMatrixDisplay(cm, display_labels=['label 0','label 1'])\n",
    "    cmd.plot()\n",
    "    plt.title('Confusion Matrix for '+title)"
   ]
  },
  {
   "cell_type": "code",
   "execution_count": 53,
   "metadata": {
    "colab": {
     "base_uri": "https://localhost:8080/",
     "height": 329
    },
    "id": "zpVr8k6YO9wg",
    "outputId": "500dc352-0f8d-4a32-8961-b778146a9b25"
   },
   "outputs": [
    {
     "name": "stdout",
     "output_type": "stream",
     "text": [
      "Train accuracy: 0.5010575356561008\n",
      "Test accuracy: 0.49713237745915306\n"
     ]
    },
    {
     "data": {
      "image/png": "[encoded data removed]",
      "text/plain": [
       "<Figure size 432x288 with 2 Axes>"
      ]
     },
     "metadata": {
      "needs_background": "light",
      "tags": []
     },
     "output_type": "display_data"
    }
   ],
   "source": [
    "# Naive \n",
    "classes, counts = np.unique(y_train_win, return_counts = True)\n",
    "y_pred_naive_win = np.ones(shape=y_test_win.shape) * classes[np.argmax(counts)]\n",
    "print('Train accuracy:', accuracy_score(y_train_win, np.ones(shape=y_train_win.shape) * classes[np.argmax(counts)]))\n",
    "print('Test accuracy:', accuracy_score(y_test_win, y_pred_naive_win))\n",
    "plotConfusion(y_test_win, y_pred_naive_win, 'Naive')"
   ]
  },
  {
   "cell_type": "code",
   "execution_count": 54,
   "metadata": {
    "colab": {
     "base_uri": "https://localhost:8080/",
     "height": 329
    },
    "id": "hVLFfmqwO9wg",
    "outputId": "71f7813b-3fd7-4207-d6bc-15c0b39c7d63"
   },
   "outputs": [
    {
     "name": "stdout",
     "output_type": "stream",
     "text": [
      "Train accuracy: 0.5743133163746534\n",
      "Test accuracy: 0.5704901633877959\n"
     ]
    },
    {
     "data": {
      "image/png": "[encoded data removed]",
      "text/plain": [
       "<Figure size 432x288 with 2 Axes>"
      ]
     },
     "metadata": {
      "needs_background": "light",
      "tags": []
     },
     "output_type": "display_data"
    }
   ],
   "source": [
    "# Linear Regression \n",
    "lm_win = LinearRegression().fit(X_train, y_train_win)\n",
    "y_pred_lm_win = lm_win.predict(X_test) > 0.5\n",
    "print('Train accuracy:', accuracy_score(y_train_win, lm_win.predict(X_train) > 0.5))\n",
    "print('Test accuracy:',accuracy_score(y_test_win, y_pred_lm_win))\n",
    "plotConfusion(y_test_win, y_pred_lm_win, 'Linear Model')"
   ]
  },
  {
   "cell_type": "code",
   "execution_count": 56,
   "metadata": {
    "colab": {
     "base_uri": "https://localhost:8080/",
     "height": 346
    },
    "id": "oLr-S-kdO9wh",
    "outputId": "e30d2d9d-7370-4ea7-daf5-b66fa1d9865b"
   },
   "outputs": [
    {
     "name": "stdout",
     "output_type": "stream",
     "text": [
      "Chosen C: 0.01\n",
      "Train CV mean accuracy: 0.5728985050143727\n",
      "Test accuracy: 0.5710570190063354\n"
     ]
    },
    {
     "data": {
      "image/png": "[encoded data removed]",
      "text/plain": [
       "<Figure size 432x288 with 2 Axes>"
      ]
     },
     "metadata": {
      "needs_background": "light",
      "tags": []
     },
     "output_type": "display_data"
    }
   ],
   "source": [
    "# Logistic Regression  \n",
    "C = [0.001, 0.01, 0.1, 1, 10, 100, 1000]\n",
    "max_score = 0\n",
    "for C_i in C:\n",
    "  lr_win_i = LogisticRegression(C=C_i, random_state=0, solver='lbfgs')\n",
    "  scores_i = cross_val_score(lr_win_i, X_train, y_train_win, cv=5)\n",
    "  if np.mean(scores_i) > max_score:\n",
    "    lr_win = lr_win_i\n",
    "    max_score = np.mean(scores_i)\n",
    "    pars = C_i\n",
    "print('Chosen C:', pars)\n",
    "lr_win = lr_win.fit(X_train, y_train_win)\n",
    "y_pred_lr_win = lr_win.predict(X_test).reshape(-1,1) > 0.5\n",
    "print('Train CV mean accuracy:', max_score)\n",
    "print('Test accuracy:',accuracy_score(y_test_win, y_pred_lr_win))\n",
    "plotConfusion(y_test_win, y_pred_lr_win, 'Logistic Model')"
   ]
  },
  {
   "cell_type": "code",
   "execution_count": 57,
   "metadata": {
    "colab": {
     "base_uri": "https://localhost:8080/",
     "height": 346
    },
    "id": "Lcvb2v0raI4r",
    "outputId": "1acf77f6-c6ad-472c-80e5-0a5558230b43"
   },
   "outputs": [
    {
     "name": "stdout",
     "output_type": "stream",
     "text": [
      "Chosen depth, minimum samples split, minimum samples leaf: [20, 50, 40]\n",
      "Train CV mean accuracy: 0.551176140767316\n",
      "Test accuracy: 0.5512170723574524\n"
     ]
    },
    {
     "data": {
      "image/png": "[encoded data removed]",
      "text/plain": [
       "<Figure size 432x288 with 2 Axes>"
      ]
     },
     "metadata": {
      "needs_background": "light",
      "tags": []
     },
     "output_type": "display_data"
    }
   ],
   "source": [
    "# Decision Tree \n",
    "max_depth = [1, 5, 10, 20, 50, 100]\n",
    "min_samples_split = [50, 100, 200, 400]\n",
    "min_samples_leaf = [10, 20, 40, 80]\n",
    "max_score = 0\n",
    "for md_i, mss_i, msl_i in itertools.product(max_depth, min_samples_split, min_samples_leaf):\n",
    "  dt_win_i = DecisionTreeClassifier(max_depth=md_i, min_samples_split=mss_i, min_samples_leaf=msl_i)\n",
    "  scores_i = cross_val_score(dt_win_i, X_train, y_train_win, cv=5)\n",
    "  if np.mean(scores_i) > max_score:\n",
    "    dt_win = dt_win_i\n",
    "    max_score = np.mean(scores_i)\n",
    "    pars = [md_i, mss_i, msl_i]\n",
    "print('Chosen depth, minimum samples split, minimum samples leaf:', pars)\n",
    "dt_win = dt_win.fit(X_train, y_train_win)\n",
    "y_pred_dt_win = dt_win.predict(X_test).reshape(-1,1)\n",
    "print('Train CV mean accuracy:', max_score)\n",
    "print('Test accuracy:',accuracy_score(y_test_win, y_pred_dt_win))\n",
    "plotConfusion(y_test_win, y_pred_dt_win, 'Decision Tree')"
   ]
  },
  {
   "cell_type": "code",
   "execution_count": 58,
   "metadata": {
    "colab": {
     "base_uri": "https://localhost:8080/",
     "height": 346
    },
    "id": "IlhbKp4GO9wh",
    "outputId": "68f8a324-7b49-4b0a-a8ac-01ddaa980d72"
   },
   "outputs": [
    {
     "name": "stdout",
     "output_type": "stream",
     "text": [
      "Chosen number of estimators: 200\n",
      "Train CV mean accuracy: 0.5601509277466589\n",
      "Test accuracy: 0.5604534844948316\n"
     ]
    },
    {
     "data": {
      "image/png": "[encoded data removed]",
      "text/plain": [
       "<Figure size 432x288 with 2 Axes>"
      ]
     },
     "metadata": {
      "needs_background": "light",
      "tags": []
     },
     "output_type": "display_data"
    }
   ],
   "source": [
    "# Bagged Trees \n",
    "n_estimators = [1, 10, 50, 100, 200]\n",
    "max_score = 0\n",
    "for n_i in n_estimators:\n",
    "  bt_win_i = BaggingClassifier(base_estimator=DecisionTreeClassifier(max_depth=20, min_samples_split=200, min_samples_leaf=40),\n",
    "                               n_estimators=n_i, random_state=0)\n",
    "  scores_i = cross_val_score(bt_win_i, X_train, y_train_win, cv=5)\n",
    "  if np.mean(scores_i) > max_score:\n",
    "    bt_win = bt_win_i\n",
    "    max_score = np.mean(scores_i)\n",
    "    pars = n_i\n",
    "print('Chosen number of estimators:', n_i)\n",
    "bt_win = bt_win.fit(X_train, y_train_win)\n",
    "y_pred_bt_win = bt_win.predict(X_test).reshape(-1,1)\n",
    "print('Train CV mean accuracy:', max_score)\n",
    "print('Test accuracy:',accuracy_score(y_test_win, y_pred_bt_win))\n",
    "plotConfusion(y_test_win, y_pred_bt_win, 'Bagged Trees')"
   ]
  },
  {
   "cell_type": "code",
   "execution_count": 60,
   "metadata": {
    "colab": {
     "base_uri": "https://localhost:8080/",
     "height": 346
    },
    "id": "WaOfegThkORD",
    "outputId": "9ffd133c-fc28-4653-8f41-da70d5e6e574"
   },
   "outputs": [
    {
     "name": "stdout",
     "output_type": "stream",
     "text": [
      "Chosen number of estimators, depth, minimum samples split: [50, 50, 200]\n",
      "Train CV mean accuracy: 0.5676251328658538\n",
      "Test accuracy: 0.5664888296098699\n"
     ]
    },
    {
     "data": {
      "image/png": "[encoded data removed]",
      "text/plain": [
       "<Figure size 432x288 with 2 Axes>"
      ]
     },
     "metadata": {
      "needs_background": "light",
      "tags": []
     },
     "output_type": "display_data"
    }
   ],
   "source": [
    "# Random Forest \n",
    "n_estimators = [1, 10, 50, 100]\n",
    "max_depth = [1, 5, 10, 20, 50, 100]\n",
    "min_samples_split = [50, 100, 200, 400]\n",
    "max_score = 0\n",
    "for n_i, md_i, mss_i in itertools.product(n_estimators, max_depth, min_samples_split):\n",
    "  rf_win_i = RandomForestClassifier(n_estimators=n_i, max_depth=md_i, min_samples_split=mss_i, min_samples_leaf=40, random_state=0)\n",
    "  scores_i = cross_val_score(rf_win_i, X_train, y_train_win, cv=5)\n",
    "  if np.mean(scores_i) > max_score:\n",
    "    rf_win = rf_win_i\n",
    "    max_score = np.mean(scores_i)\n",
    "    pars = [n_i, md_i, mss_i]\n",
    "print('Chosen number of estimators, depth, minimum samples split:', pars)\n",
    "rf_win = rf_win.fit(X_train, y_train_win)\n",
    "y_pred_rf_win = rf_win.predict(X_test).reshape(-1,1)\n",
    "print('Train CV mean accuracy:', max_score)\n",
    "print('Test accuracy:',accuracy_score(y_test_win, y_pred_rf_win))\n",
    "plotConfusion(y_test_win, y_pred_rf_win, 'Random Forest')"
   ]
  },
  {
   "cell_type": "code",
   "execution_count": 61,
   "metadata": {
    "colab": {
     "base_uri": "https://localhost:8080/",
     "height": 346
    },
    "id": "P0uX70CEO9wh",
    "outputId": "d1054c32-fa1f-46ca-8442-9a28a7e08a4a"
   },
   "outputs": [
    {
     "name": "stdout",
     "output_type": "stream",
     "text": [
      "Chosen number of estimators, learning rate, depth: [300, 0.1, 1]\n",
      "Train CV mean accuracy: 0.565181347816956\n",
      "Test accuracy: 0.562920973657886\n"
     ]
    },
    {
     "data": {
      "image/png": "[encoded data removed]",
      "text/plain": [
       "<Figure size 432x288 with 2 Axes>"
      ]
     },
     "metadata": {
      "needs_background": "light",
      "tags": []
     },
     "output_type": "display_data"
    }
   ],
   "source": [
    "# Gradient boosting \n",
    "n_estimators = [1, 100, 300]\n",
    "learning_rate = [0.1]\n",
    "max_depth = [1]\n",
    "max_score = 0\n",
    "for n_i, lr_i, md_i in itertools.product(n_estimators, learning_rate, max_depth):\n",
    "  gb_win_i = GradientBoostingClassifier(n_estimators=n_i, learning_rate=lr_i,\n",
    "                                        max_depth=md_i, random_state=0)\n",
    "  scores_i = cross_val_score(gb_win_i, X_train, y_train_win, cv=5)\n",
    "  if np.mean(scores_i) > max_score:\n",
    "    gb_win = gb_win_i\n",
    "    max_score = np.mean(scores_i)\n",
    "    pars = [n_i, lr_i, md_i]\n",
    "print('Chosen number of estimators, learning rate, depth:', pars)\n",
    "gb_win = gb_win.fit(X_train, y_train_win)\n",
    "y_pred_gb_win = gb_win.predict(X_test).reshape(-1,1)\n",
    "print('Train CV mean accuracy:', max_score)\n",
    "print('Test accuracy:',accuracy_score(y_test_win, y_pred_gb_win))\n",
    "plotConfusion(y_test_win, y_pred_gb_win, 'Gradient Boosting')"
   ]
  }
 ],
 "metadata": {
  "colab": {
   "name": "TOMAS_FERRANTI.ipynb",
   "provenance": []
  },
  "kernelspec": {
   "display_name": "Python 3",
   "language": "python",
   "name": "python3"
  },
  "language_info": {
   "codemirror_mode": {
    "name": "ipython",
    "version": 3
   },
   "file_extension": ".py",
   "mimetype": "text/x-python",
   "name": "python",
   "nbconvert_exporter": "python",
   "pygments_lexer": "ipython3",
   "version": "3.8.5"
  }
 },
 "nbformat": 4,
 "nbformat_minor": 1
}
